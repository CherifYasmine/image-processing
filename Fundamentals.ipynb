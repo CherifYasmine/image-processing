{
 "cells": [
  {
   "cell_type": "code",
   "execution_count": 1,
   "id": "5fd69bfa",
   "metadata": {},
   "outputs": [],
   "source": [
    "import numpy as np\n",
    "import matplotlib.pyplot as plt"
   ]
  },
  {
   "cell_type": "code",
   "execution_count": 2,
   "id": "b409f371",
   "metadata": {},
   "outputs": [],
   "source": [
    "def readImagePgm(file_name):\n",
    "    file = open(file_name, \"r\")\n",
    "    lines = file.readlines() \n",
    "    for line in list(lines):\n",
    "        if(line[0]=='#'):\n",
    "            lines.remove(line)\n",
    "    l = []\n",
    "    for line in list(lines):\n",
    "        for word in line.split():\n",
    "            l.append(word)      \n",
    "    p = l[0]\n",
    "    if (p!='P2' and p!='P5'):\n",
    "        print('Insupported format')\n",
    "        exit()\n",
    "    del(l[0]) \n",
    "    lx = int(l[0])\n",
    "    del(l[0])\n",
    "    ly = int(l[0])\n",
    "    del(l[0])\n",
    "    density = int(l[0])\n",
    "    del(l[0])\n",
    "    for i in range(0,len(l)):\n",
    "        l[i] = int(l[i]) \n",
    "    l= np.array(l)       \n",
    "    matrix = np.matrix(l.reshape((640, 480)))\n",
    "    file.close()\n",
    "    return matrix"
   ]
  },
  {
   "cell_type": "code",
   "execution_count": 3,
   "id": "ea5db37e",
   "metadata": {},
   "outputs": [
    {
     "data": {
      "text/plain": [
       "matrix([[ 70, 205, 205, ..., 205, 205, 205],\n",
       "        [205, 205, 205, ..., 205, 205, 205],\n",
       "        [205, 205, 205, ..., 205, 205, 205],\n",
       "        ...,\n",
       "        [ 28,  30,  30, ..., 160, 164, 168],\n",
       "        [180, 188, 191, ..., 194, 195, 195],\n",
       "        [193, 193, 192, ...,  62,  79,  74]])"
      ]
     },
     "execution_count": 3,
     "metadata": {},
     "output_type": "execute_result"
    }
   ],
   "source": [
    "matrix = readImagePgm('pic1.pgm')\n",
    "matrix"
   ]
  },
  {
   "cell_type": "code",
   "execution_count": 4,
   "id": "9b934e7f",
   "metadata": {},
   "outputs": [
    {
     "data": {
      "text/plain": [
       "(640, 480)"
      ]
     },
     "execution_count": 4,
     "metadata": {},
     "output_type": "execute_result"
    }
   ],
   "source": [
    "np.shape(matrix)"
   ]
  },
  {
   "cell_type": "code",
   "execution_count": 5,
   "id": "a1becb05",
   "metadata": {},
   "outputs": [],
   "source": [
    "def writeImagePgm(m, lx, ly, density):\n",
    "    file = open(\"output.pgm\", \"w\")\n",
    "    file.write(\"P2\")\n",
    "    file.write(f'\\n{lx}')\n",
    "    file.write(f' {ly}')\n",
    "    file.write(f'\\n{density}\\n')\n",
    "    for x in range(lx):\n",
    "        for y in range(ly):\n",
    "            file.write(f'{m[x][y]} ')"
   ]
  },
  {
   "cell_type": "code",
   "execution_count": 6,
   "id": "68a14f09",
   "metadata": {},
   "outputs": [
    {
     "ename": "IndexError",
     "evalue": "index 1 is out of bounds for axis 0 with size 1",
     "output_type": "error",
     "traceback": [
      "\u001b[1;31m---------------------------------------------------------------------------\u001b[0m",
      "\u001b[1;31mIndexError\u001b[0m                                Traceback (most recent call last)",
      "\u001b[1;32m~\\AppData\\Local\\Temp/ipykernel_10352/3120225366.py\u001b[0m in \u001b[0;36m<module>\u001b[1;34m\u001b[0m\n\u001b[1;32m----> 1\u001b[1;33m \u001b[0mimage\u001b[0m \u001b[1;33m=\u001b[0m \u001b[0mwriteImagePgm\u001b[0m\u001b[1;33m(\u001b[0m\u001b[0mreadImagePgm\u001b[0m\u001b[1;33m(\u001b[0m\u001b[1;34m'pic1.pgm'\u001b[0m\u001b[1;33m)\u001b[0m\u001b[1;33m,\u001b[0m\u001b[1;36m640\u001b[0m\u001b[1;33m,\u001b[0m\u001b[1;36m480\u001b[0m\u001b[1;33m,\u001b[0m\u001b[1;36m255\u001b[0m\u001b[1;33m)\u001b[0m\u001b[1;33m\u001b[0m\u001b[1;33m\u001b[0m\u001b[0m\n\u001b[0m",
      "\u001b[1;32m~\\AppData\\Local\\Temp/ipykernel_10352/1970402602.py\u001b[0m in \u001b[0;36mwriteImagePgm\u001b[1;34m(m, lx, ly, density)\u001b[0m\n\u001b[0;32m      7\u001b[0m     \u001b[1;32mfor\u001b[0m \u001b[0mx\u001b[0m \u001b[1;32min\u001b[0m \u001b[0mrange\u001b[0m\u001b[1;33m(\u001b[0m\u001b[0mlx\u001b[0m\u001b[1;33m)\u001b[0m\u001b[1;33m:\u001b[0m\u001b[1;33m\u001b[0m\u001b[1;33m\u001b[0m\u001b[0m\n\u001b[0;32m      8\u001b[0m         \u001b[1;32mfor\u001b[0m \u001b[0my\u001b[0m \u001b[1;32min\u001b[0m \u001b[0mrange\u001b[0m\u001b[1;33m(\u001b[0m\u001b[0mly\u001b[0m\u001b[1;33m)\u001b[0m\u001b[1;33m:\u001b[0m\u001b[1;33m\u001b[0m\u001b[1;33m\u001b[0m\u001b[0m\n\u001b[1;32m----> 9\u001b[1;33m             \u001b[0mfile\u001b[0m\u001b[1;33m.\u001b[0m\u001b[0mwrite\u001b[0m\u001b[1;33m(\u001b[0m\u001b[1;34mf'{m[x][y]} '\u001b[0m\u001b[1;33m)\u001b[0m\u001b[1;33m\u001b[0m\u001b[1;33m\u001b[0m\u001b[0m\n\u001b[0m",
      "\u001b[1;32m~\\anaconda3\\lib\\site-packages\\numpy\\matrixlib\\defmatrix.py\u001b[0m in \u001b[0;36m__getitem__\u001b[1;34m(self, index)\u001b[0m\n\u001b[0;32m    191\u001b[0m \u001b[1;33m\u001b[0m\u001b[0m\n\u001b[0;32m    192\u001b[0m         \u001b[1;32mtry\u001b[0m\u001b[1;33m:\u001b[0m\u001b[1;33m\u001b[0m\u001b[1;33m\u001b[0m\u001b[0m\n\u001b[1;32m--> 193\u001b[1;33m             \u001b[0mout\u001b[0m \u001b[1;33m=\u001b[0m \u001b[0mN\u001b[0m\u001b[1;33m.\u001b[0m\u001b[0mndarray\u001b[0m\u001b[1;33m.\u001b[0m\u001b[0m__getitem__\u001b[0m\u001b[1;33m(\u001b[0m\u001b[0mself\u001b[0m\u001b[1;33m,\u001b[0m \u001b[0mindex\u001b[0m\u001b[1;33m)\u001b[0m\u001b[1;33m\u001b[0m\u001b[1;33m\u001b[0m\u001b[0m\n\u001b[0m\u001b[0;32m    194\u001b[0m         \u001b[1;32mfinally\u001b[0m\u001b[1;33m:\u001b[0m\u001b[1;33m\u001b[0m\u001b[1;33m\u001b[0m\u001b[0m\n\u001b[0;32m    195\u001b[0m             \u001b[0mself\u001b[0m\u001b[1;33m.\u001b[0m\u001b[0m_getitem\u001b[0m \u001b[1;33m=\u001b[0m \u001b[1;32mFalse\u001b[0m\u001b[1;33m\u001b[0m\u001b[1;33m\u001b[0m\u001b[0m\n",
      "\u001b[1;31mIndexError\u001b[0m: index 1 is out of bounds for axis 0 with size 1"
     ]
    }
   ],
   "source": [
    "image = writeImagePgm(readImagePgm('pic1.pgm'),640,480,255)"
   ]
  },
  {
   "cell_type": "code",
   "execution_count": 7,
   "id": "7a133125",
   "metadata": {},
   "outputs": [],
   "source": [
    "def mean_stdev(matrix):\n",
    "    matrix = np.matrix(matrix)\n",
    "    mean = matrix.mean()\n",
    "    stdev = np.std(matrix)\n",
    "    return mean, stdev"
   ]
  },
  {
   "cell_type": "code",
   "execution_count": 8,
   "id": "75d1eeb5",
   "metadata": {},
   "outputs": [
    {
     "data": {
      "text/plain": [
       "(155.12071940104167, 55.92556297565471)"
      ]
     },
     "execution_count": 8,
     "metadata": {},
     "output_type": "execute_result"
    }
   ],
   "source": [
    "mean_stdev(matrix)"
   ]
  },
  {
   "cell_type": "code",
   "execution_count": 9,
   "id": "32d389aa",
   "metadata": {},
   "outputs": [],
   "source": [
    "def histogram (matrix):\n",
    "    matrix = np.matrix(matrix)\n",
    "    lx,ly = matrix.shape\n",
    "    histogram = np.zeros(256).astype(int)\n",
    "    for i in range (256):\n",
    "        pixels_value_i = np.sum (matrix == i )\n",
    "        histogram[i] = pixels_value_i\n",
    "    return histogram"
   ]
  },
  {
   "cell_type": "code",
   "execution_count": 10,
   "id": "b0c9b53d",
   "metadata": {},
   "outputs": [
    {
     "data": {
      "text/plain": [
       "Text(0, 0.5, 'Frequency')"
      ]
     },
     "execution_count": 10,
     "metadata": {},
     "output_type": "execute_result"
    },
    {
     "data": {
      "image/png": "[encoded data removed]",
      "text/plain": [
       "<Figure size 432x288 with 1 Axes>"
      ]
     },
     "metadata": {
      "needs_background": "light"
     },
     "output_type": "display_data"
    }
   ],
   "source": [
    "hist = histogram(matrix)\n",
    "plt.bar(range(256), hist)\n",
    "plt.xlabel('Graylevel / intensity')\n",
    "plt.ylabel('Frequency')\n"
   ]
  },
  {
   "cell_type": "code",
   "execution_count": 16,
   "id": "a3f5e806",
   "metadata": {},
   "outputs": [
    {
     "data": {
      "image/png": "[encoded data removed]",
      "text/plain": [
       "<Figure size 432x288 with 4 Axes>"
      ]
     },
     "metadata": {
      "needs_background": "light"
     },
     "output_type": "display_data"
    }
   ],
   "source": [
    "import imageio\n",
    "img1 = imageio.imread(\"./grey.png\")\n",
    "img2 = imageio.imread(\"./scarlett.jpg\")\n",
    "\n",
    "hist_img1 = histogram(img1)\n",
    "hist_img2 = histogram(img2)\n",
    "\n",
    "plt.subplot(221)\n",
    "plt.imshow(img1, cmap=\"gray\", vmin=0, vmax=255)\n",
    "plt.axis('off')\n",
    "plt.subplot(223)\n",
    "plt.imshow(img2, cmap=\"gray\", vmin=0, vmax=255)\n",
    "plt.axis('off')\n",
    "\n",
    "plt.subplot(222)\n",
    "plt.bar(range(256), hist_img1)\n",
    "plt.xlabel('Intensity value')\n",
    "plt.ylabel('Frequency')\n",
    "\n",
    "plt.subplot(224)\n",
    "plt.bar(range(256), hist_img2)\n",
    "plt.xlabel('Intensity value')\n",
    "plt.ylabel('Frequency')\n",
    "plt.show()"
   ]
  },
  {
   "cell_type": "code",
   "execution_count": 17,
   "id": "72137f98",
   "metadata": {},
   "outputs": [],
   "source": [
    "def cumulative_histogram (matrix):\n",
    "    total = np.cumsum(matrix)\n",
    "    total = np.matrix(total)\n",
    "    return total"
   ]
  },
  {
   "cell_type": "code",
   "execution_count": 19,
   "id": "4897f684",
   "metadata": {},
   "outputs": [
    {
     "data": {
      "text/plain": [
       "matrix([[ 70, 205, 205, ..., 205, 205, 205],\n",
       "        [205, 205, 205, ..., 205, 205, 205],\n",
       "        [205, 205, 205, ..., 205, 205, 205],\n",
       "        ...,\n",
       "        [ 28,  30,  30, ..., 160, 164, 168],\n",
       "        [180, 188, 191, ..., 194, 195, 195],\n",
       "        [193, 193, 192, ...,  62,  79,  74]])"
      ]
     },
     "execution_count": 19,
     "metadata": {},
     "output_type": "execute_result"
    }
   ],
   "source": [
    "matrix"
   ]
  },
  {
   "cell_type": "code",
   "execution_count": 20,
   "id": "0f837206",
   "metadata": {},
   "outputs": [
    {
     "data": {
      "text/plain": [
       "matrix([[      70,      275,      480, ..., 47652932, 47653011, 47653085]],\n",
       "       dtype=int32)"
      ]
     },
     "execution_count": 20,
     "metadata": {},
     "output_type": "execute_result"
    }
   ],
   "source": [
    "cumulative_histogram (matrix)"
   ]
  },
  {
   "cell_type": "code",
   "execution_count": null,
   "id": "fb604afe",
   "metadata": {},
   "outputs": [],
   "source": []
  }
 ],
 "metadata": {
  "kernelspec": {
   "display_name": "Python 3 (ipykernel)",
   "language": "python",
   "name": "python3"
  },
  "language_info": {
   "codemirror_mode": {
    "name": "ipython",
    "version": 3
   },
   "file_extension": ".py",
   "mimetype": "text/x-python",
   "name": "python",
   "nbconvert_exporter": "python",
   "pygments_lexer": "ipython3",
   "version": "3.9.7"
  }
 },
 "nbformat": 4,
 "nbformat_minor": 5
}
